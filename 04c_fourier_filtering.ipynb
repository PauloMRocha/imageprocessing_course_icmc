{
 "cells": [
  {
   "cell_type": "markdown",
   "metadata": {},
   "source": [
    "## 04 - part 3 - Filtering in the frequency domain"
   ]
  },
  {
   "cell_type": "code",
   "execution_count": 1,
   "metadata": {},
   "outputs": [],
   "source": [
    "import numpy as np\n",
    "import imageio\n",
    "import matplotlib.pyplot as plt\n",
    "import time"
   ]
  },
  {
   "cell_type": "code",
   "execution_count": 2,
   "metadata": {},
   "outputs": [],
   "source": [
    "img1 = imageio.imread(\"images/pattern.png\")\n",
    "img2 = imageio.imread(\"images/gradient_noise.png\")\n",
    "img3 = imageio.imread(\"images/board.jpg\")"
   ]
  },
  {
   "cell_type": "code",
   "execution_count": 3,
   "metadata": {},
   "outputs": [],
   "source": [
    "# implementing a 2D version of the DFT\n",
    "def DFT2D(f):\n",
    "    # create empty array of complex coefficients\n",
    "    F = np.zeros(f.shape, dtype=np.complex64)\n",
    "    n,m = f.shape[0:2]\n",
    "    \n",
    "    # creating indices for x, to compute multiplication using numpy (f*exp)\n",
    "    x = np.arange(n)\n",
    "    # for each frequency 'u,v'\n",
    "    for u in np.arange(n):\n",
    "        for v in np.arange(m):\n",
    "            for y in np.arange(m):\n",
    "                F[u,v] += np.sum(f[:,y] * np.exp( (-1j*2*np.pi) * (((u*x)/n)+((v*y)/m)) ))\n",
    "    \n",
    "    return F/np.sqrt(n*m)"
   ]
  },
  {
   "cell_type": "code",
   "execution_count": 4,
   "metadata": {},
   "outputs": [],
   "source": [
    "# implementing a 2D version of the DFT\n",
    "def IDFT2D(F):\n",
    "    # create empty array of complex coefficients\n",
    "    f = np.zeros(F.shape, dtype=np.int32)\n",
    "    n,m = F.shape[0:2]\n",
    "    \n",
    "    # creating indices for x, to compute multiplication using numpy (f*exp)\n",
    "    u = np.arange(n)\n",
    "    # for each frequency 'u,v'\n",
    "    for x in np.arange(n):\n",
    "        for y in np.arange(m):\n",
    "            for v in np.arange(m):\n",
    "                f[x,y] += np.sum(F[:,v] * np.exp( (1j*2*np.pi) * (((u*x)/n)+((v*y)/m)) ))\n",
    "    \n",
    "    return np.real(f/np.sqrt(n*m))"
   ]
  },
  {
   "cell_type": "code",
   "execution_count": null,
   "metadata": {
    "scrolled": true
   },
   "outputs": [],
   "source": [
    "# extracting subimages with 64x64=4096 pixels\n",
    "sizes = 64\n",
    "img1_s = img1[:sizes, :sizes]\n",
    "img2_s = img2[:sizes, :sizes]\n",
    "img3_s = img3[5:sizes+5, 5:sizes+5]\n",
    "\n",
    "F1s = DFT2D(img1_s)\n",
    "F2s = DFT2D(img2_s)\n",
    "F3s = DFT2D(img3_s)"
   ]
  },
  {
   "cell_type": "markdown",
   "metadata": {},
   "source": [
    "Visualizing the **Power Spectrum** $|F(u,v)|^2$"
   ]
  },
  {
   "cell_type": "code",
   "execution_count": null,
   "metadata": {},
   "outputs": [],
   "source": [
    "plt.figure(figsize=(12,8)) \n",
    "plt.subplot(231)\n",
    "plt.imshow(img1_s, cmap=\"gray\"); plt.axis('off')\n",
    "plt.subplot(232)\n",
    "plt.imshow(img2_s, cmap=\"gray\"); plt.axis('off')\n",
    "plt.subplot(233)\n",
    "plt.imshow(img3_s, cmap=\"gray\"); plt.axis('off')\n",
    "\n",
    "# the log of the magnitudes \n",
    "plt.subplot(234)\n",
    "plt.imshow(np.log(1 + np.fft.fftshift(np.abs(F1s))), cmap=\"gray\")\n",
    "plt.axis('off')\n",
    "plt.subplot(235)\n",
    "plt.imshow(np.log(1 + np.fft.fftshift(np.abs(F2s))), cmap=\"gray\")\n",
    "plt.axis('off')\n",
    "plt.subplot(236)\n",
    "plt.imshow(np.log(1 + np.fft.fftshift(np.abs(F3s))), cmap=\"gray\")\n",
    "plt.axis('off')"
   ]
  },
  {
   "cell_type": "markdown",
   "metadata": {},
   "source": [
    "It is possible to notice the different frequency patterns that arise from different images.\n",
    "\n",
    "1. the first one (leftmost) contains mainly horizontal and vertical oscilations,\n",
    "2. the second (in the middle) is only noise so the spectrum is aproximately uniform, \n",
    "3. the last (right-most) has horizontal, vertical but also circular patterns, which shows on the spectrum.\n"
   ]
  },
  {
   "cell_type": "markdown",
   "metadata": {},
   "source": [
    "---\n",
    "Let us now filter frequencies in those images in order to see the effects of filters:\n",
    "* high passs\n",
    "* low pass\n",
    "* band stop"
   ]
  },
  {
   "cell_type": "code",
   "execution_count": null,
   "metadata": {},
   "outputs": [],
   "source": [
    "n2 = F1s.shape[0]//2\n",
    "m2 = F1s.shape[1]//2\n",
    "\n",
    "F1p = np.fft.fftshift(F1s.copy())\n",
    "F1p[n2-10:n2+10, m2-10:m2+10] = 0 # square high pass filter, removes first frequencies\n",
    "F1p = np.fft.ifftshift(F1p)\n",
    "    \n",
    "F2p = np.fft.fftshift(F2s).copy()\n",
    "F2p[:n2-5, :] = 0 # square low pass filter, removes higher frequencies\n",
    "F2p[:, :m2-5] = 0 # square low pass filter, removes higher frequencies\n",
    "F2p[n2+5:, :] = 0 # square low pass filter, removes higher frequencies\n",
    "F2p[:, m2+5:] = 0 # square low pass filter, removes higher frequencies\n",
    "F2p = np.fft.ifftshift(F2p)\n",
    "\n",
    "F3p = F3s.copy()\n",
    "F3p[5:-5,5:-5] = 0 # band stop filter\n",
    "#F3p = np.fft.ifftshift(F3p)\n",
    "\n",
    "i1p = IDFT2D(F1p)\n",
    "i2p = IDFT2D(F2p)\n",
    "i3p = IDFT2D(F3p)"
   ]
  },
  {
   "cell_type": "code",
   "execution_count": null,
   "metadata": {},
   "outputs": [],
   "source": [
    "plt.figure(figsize=(9,9)) \n",
    "plt.subplot(331)\n",
    "plt.imshow(i1p, cmap=\"gray\"); plt.axis('off'); plt.title('filtered')\n",
    "plt.subplot(332)\n",
    "plt.imshow(i2p, cmap=\"gray\"); plt.axis('off'); plt.title('filtered')\n",
    "plt.subplot(333)\n",
    "plt.imshow(i3p, cmap=\"gray\"); plt.axis('off'); plt.title('filtered')\n",
    "\n",
    "# the log of the magnitudes \n",
    "plt.subplot(334)\n",
    "plt.imshow(np.log(1 + np.fft.fftshift(np.abs(F1p))), cmap=\"gray\")\n",
    "plt.axis('off'); plt.title('high pass')\n",
    "plt.subplot(335)\n",
    "plt.imshow(np.log(1 + np.fft.fftshift(np.abs(F2p))), cmap=\"gray\")\n",
    "plt.axis('off'); plt.title('low pass')\n",
    "plt.subplot(336)\n",
    "plt.imshow(np.log(1 + np.fft.fftshift(np.abs(F3p))), cmap=\"gray\")\n",
    "plt.axis('off'); plt.title('per frequency band pass')\n",
    "\n",
    "plt.subplot(337)\n",
    "plt.imshow(img1_s, cmap=\"gray\"); plt.axis('off'); plt.title('original')\n",
    "plt.subplot(338)\n",
    "plt.imshow(img2_s, cmap=\"gray\"); plt.axis('off'); plt.title('original')\n",
    "plt.subplot(339)\n",
    "plt.imshow(img3_s, cmap=\"gray\"); plt.axis('off'); plt.title('original')"
   ]
  }
 ],
 "metadata": {
  "kernelspec": {
   "display_name": "Python 3",
   "language": "python",
   "name": "python3"
  },
  "language_info": {
   "codemirror_mode": {
    "name": "ipython",
    "version": 3
   },
   "file_extension": ".py",
   "mimetype": "text/x-python",
   "name": "python",
   "nbconvert_exporter": "python",
   "pygments_lexer": "ipython3",
   "version": "3.8.2"
  }
 },
 "nbformat": 4,
 "nbformat_minor": 2
}
