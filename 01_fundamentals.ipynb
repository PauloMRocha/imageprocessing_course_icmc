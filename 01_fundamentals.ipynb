{
 "cells": [
  {
   "cell_type": "markdown",
   "metadata": {},
   "source": [
    "### 01 - Fundamentals of Image Processing\n",
    "\n",
    "During the course, we are going to use Python 3 and some basic libraries to load, save, show and process images. This notebook shows some python basics as well as the following libraries:\n",
    "\n",
    "`numpy` numerical matemathics library, allows working with multidimensional arrays, includes optimised operators for vector and matrix\n",
    "\n",
    "`imageio` is a input/output library for images\n",
    "\n",
    "`matplotlib` is a plotting library for images and graphics\n"
   ]
  },
  {
   "cell_type": "code",
   "execution_count": 1,
   "metadata": {},
   "outputs": [],
   "source": [
    "import numpy as np\n",
    "import imageio\n",
    "import matplotlib.pyplot as plt"
   ]
  },
  {
   "cell_type": "markdown",
   "metadata": {},
   "source": [
    "OBS: when using `as` an alias is created to allow accessing the library using a shorter identifier. For example, `numpy` can be accessed via `np`.\n",
    "So when creating a zero-valued array `A` with 10 elements we may use:"
   ]
  },
  {
   "cell_type": "code",
   "execution_count": 3,
   "metadata": {},
   "outputs": [],
   "source": [
    "A = np.zeros(10)"
   ]
  },
  {
   "cell_type": "code",
   "execution_count": 4,
   "metadata": {},
   "outputs": [
    {
     "name": "stdout",
     "output_type": "stream",
     "text": [
      "[0. 0. 0. 0. 0. 0. 0. 0. 0. 0.]\n"
     ]
    }
   ],
   "source": [
    "print(A)"
   ]
  },
  {
   "cell_type": "markdown",
   "metadata": {},
   "source": [
    "In order to capture input from the keyboard the function `input()` may be used. After getting the input, it is good to convert the value into the desired type, such as String, Integer, etc. Below, two image filenames are read from the keyboard, converting the values to strings.\n",
    "\n",
    "Afterwards, the `imageio` library is used to read such files from the disk and load them into the memory\n"
   ]
  },
  {
   "cell_type": "code",
   "execution_count": 5,
   "metadata": {},
   "outputs": [
    {
     "name": "stdout",
     "output_type": "stream",
     "text": [
      "images/num1.png\n",
      "images/num2.png\n"
     ]
    }
   ],
   "source": [
    "filename1 = str(input())\n",
    "filename2 = str(input())\n",
    "\n",
    "# reading image files\n",
    "img1 = imageio.imread(filename1)\n",
    "img2 = imageio.imread(filename2)"
   ]
  },
  {
   "cell_type": "markdown",
   "metadata": {},
   "source": [
    "The objects `img1` and `img2` are arrays with a specific shape (dimensions) that can be checked using the attribute `shape` "
   ]
  },
  {
   "cell_type": "code",
   "execution_count": 9,
   "metadata": {},
   "outputs": [
    {
     "name": "stdout",
     "output_type": "stream",
     "text": [
      "<class 'imageio.core.util.Array'>\n",
      "(250, 250)\n",
      "(250, 250)\n"
     ]
    }
   ],
   "source": [
    "print(type(img1))\n",
    "print(img1.shape)\n",
    "print(img2.shape)\n"
   ]
  },
  {
   "cell_type": "markdown",
   "metadata": {},
   "source": [
    "In order to process such images, it is fundamental to know the dimensions of an image.\n",
    "\n",
    "Let us now show the input images, using the `matplotlib` library\n"
   ]
  },
  {
   "cell_type": "code",
   "execution_count": 10,
   "metadata": {},
   "outputs": [
    {
     "data": {
      "text/plain": [
       "<matplotlib.image.AxesImage at 0x7f05deafb208>"
      ]
     },
     "execution_count": 10,
     "metadata": {},
     "output_type": "execute_result"
    },
    {
     "data": {
      "image/png": "[encoded data removed]",
      "text/plain": [
       "<Figure size 432x288 with 1 Axes>"
      ]
     },
     "metadata": {
      "needs_background": "light"
     },
     "output_type": "display_data"
    }
   ],
   "source": [
    "plt.imshow(img1, cmap=\"gray\")"
   ]
  },
  {
   "cell_type": "code",
   "execution_count": 12,
   "metadata": {},
   "outputs": [
    {
     "data": {
      "text/plain": [
       "<matplotlib.image.AxesImage at 0x7f05dea104a8>"
      ]
     },
     "execution_count": 12,
     "metadata": {},
     "output_type": "execute_result"
    },
    {
     "data": {
      "image/png": "[encoded data removed]",
      "text/plain": [
       "<Figure size 432x288 with 1 Axes>"
      ]
     },
     "metadata": {
      "needs_background": "light"
     },
     "output_type": "display_data"
    }
   ],
   "source": [
    "plt.imshow(img2, cmap=\"gray\")"
   ]
  },
  {
   "cell_type": "markdown",
   "metadata": {},
   "source": [
    "In this example we are going to detect the differences between the two images in order to find in which cells there are different numbers.\n",
    "\n",
    "To do so, the simplest (but not fastest) way is to go through all pixels explicitly using two loops, and subtracting each pair of pixels.\n",
    "\n",
    "The result of the subtraction is stored in a new matrix that is initialized with zeros. Note that, in order to allow subtracting the images pixel-by-pixel, we need to ensure both have the same dimensions."
   ]
  },
  {
   "cell_type": "code",
   "execution_count": 14,
   "metadata": {},
   "outputs": [],
   "source": [
    "size1 = img1.shape\n",
    "size2 = img2.shape\n",
    "assert size1 == size2"
   ]
  },
  {
   "cell_type": "code",
   "execution_count": 15,
   "metadata": {},
   "outputs": [],
   "source": [
    "img_sub = np.zeros(size1, dtype=float)\n",
    "\n",
    "for x in range(size1[0]):\n",
    "    for y in range(size1[1]):\n",
    "        img_sub[x,y] = float(img1[x,y]) - float(img2[x,y])"
   ]
  },
  {
   "cell_type": "markdown",
   "metadata": {},
   "source": [
    "The resulting image can be shown with the `matplotlib`.\n",
    "\n",
    "I will also going to show the colorbar for us to inspect which values were mapped to the different gray levels"
   ]
  },
  {
   "cell_type": "code",
   "execution_count": 19,
   "metadata": {},
   "outputs": [
    {
     "data": {
      "text/plain": [
       "<matplotlib.colorbar.Colorbar at 0x7f05de85bf98>"
      ]
     },
     "execution_count": 19,
     "metadata": {},
     "output_type": "execute_result"
    },
    {
     "data": {
      "image/png": "[encoded data removed]",
      "text/plain": [
       "<Figure size 432x288 with 2 Axes>"
      ]
     },
     "metadata": {
      "needs_background": "light"
     },
     "output_type": "display_data"
    }
   ],
   "source": [
    "plt.imshow(img_sub, cmap=\"gray\")\n",
    "plt.colorbar()"
   ]
  },
  {
   "cell_type": "markdown",
   "metadata": {},
   "source": [
    "Note the range of values goes from negative to positive values. Let's check exactly which are those values"
   ]
  },
  {
   "cell_type": "code",
   "execution_count": 21,
   "metadata": {},
   "outputs": [
    {
     "name": "stdout",
     "output_type": "stream",
     "text": [
      "Min value -255.0\n",
      "Max value 255.0\n"
     ]
    }
   ],
   "source": [
    "print(\"Min value\", np.min(img_sub))\n",
    "print(\"Max value\", np.max(img_sub))"
   ]
  },
  {
   "cell_type": "markdown",
   "metadata": {},
   "source": [
    "This is no good since we wish to represent each pixel using 8 bits. To allow storing and displaying the image correctly, we must normalise the image to the range [0,255].\n",
    "\n",
    "But now, instead of using loops, I am going to show that python allows processing matrices directly using arithmetic operators:"
   ]
  },
  {
   "cell_type": "code",
   "execution_count": 23,
   "metadata": {},
   "outputs": [
    {
     "data": {
      "text/plain": [
       "<matplotlib.colorbar.Colorbar at 0x7f05de780080>"
      ]
     },
     "execution_count": 23,
     "metadata": {},
     "output_type": "execute_result"
    },
    {
     "data": {
      "image/png": "[encoded data removed]",
      "text/plain": [
       "<Figure size 432x288 with 2 Axes>"
      ]
     },
     "metadata": {
      "needs_background": "light"
     },
     "output_type": "display_data"
    }
   ],
   "source": [
    "# get max and min values\n",
    "imax = np.max(img_sub)\n",
    "imin = np.min(img_sub)\n",
    "\n",
    "# normalize the image so that min becomes 0 and max becomes 1\n",
    "img_sub_norm = (img_sub-imin)/(imax-imin)\n",
    "\n",
    "plt.imshow(img_sub_norm, cmap=\"gray\")\n",
    "plt.colorbar()"
   ]
  },
  {
   "cell_type": "markdown",
   "metadata": {},
   "source": [
    "Note the colorbar changed. Now we can multiply the whole image with 255 and then convert to a 8 bit representation (unsigned int with 8 bits)"
   ]
  },
  {
   "cell_type": "code",
   "execution_count": 25,
   "metadata": {},
   "outputs": [
    {
     "data": {
      "text/plain": [
       "<matplotlib.colorbar.Colorbar at 0x7f05de70ceb8>"
      ]
     },
     "execution_count": 25,
     "metadata": {},
     "output_type": "execute_result"
    },
    {
     "data": {
      "image/png": "[encoded data removed]",
      "text/plain": [
       "<Figure size 432x288 with 2 Axes>"
      ]
     },
     "metadata": {
      "needs_background": "light"
     },
     "output_type": "display_data"
    }
   ],
   "source": [
    "img_sub_norm = (img_sub_norm*255).astype(np.uint8)\n",
    "\n",
    "plt.imshow(img_sub_norm, cmap=\"gray\")\n",
    "plt.colorbar()"
   ]
  },
  {
   "cell_type": "markdown",
   "metadata": {},
   "source": [
    "Finally, we write the image in the disk using the `imageio` library:"
   ]
  },
  {
   "cell_type": "code",
   "execution_count": 26,
   "metadata": {},
   "outputs": [],
   "source": [
    "imageio.imwrite(\"diff_nums.jpg\", img_sub_norm)"
   ]
  }
 ],
 "metadata": {
  "kernelspec": {
   "display_name": "Python 3",
   "language": "python",
   "name": "python3"
  },
  "language_info": {
   "codemirror_mode": {
    "name": "ipython",
    "version": 3
   },
   "file_extension": ".py",
   "mimetype": "text/x-python",
   "name": "python",
   "nbconvert_exporter": "python",
   "pygments_lexer": "ipython3",
   "version": "3.7.2"
  }
 },
 "nbformat": 4,
 "nbformat_minor": 2
}
